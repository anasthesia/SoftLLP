{
 "cells": [
  {
   "cell_type": "code",
   "execution_count": 23,
   "metadata": {},
   "outputs": [],
   "source": [
    "import glob\n",
    "import matplotlib as mlib\n",
    "import matplotlib.pyplot as plt\n",
    "import numpy as np\n",
    "from numpy import genfromtxt\n",
    "from numpy import loadtxt\n",
    "import re\n",
    "import csv\n",
    "import matplotlib.colors as mcolors\n",
    "import matplotlib.cm as cm\n",
    "import matplotlib.patches as mpatches\n",
    "import matplotlib.lines as mlines"
   ]
  },
  {
   "cell_type": "code",
   "execution_count": 24,
   "metadata": {},
   "outputs": [],
   "source": [
    "#Plotting settings\n",
    "font = {\n",
    "        'weight' : 'normal',\n",
    "        'size'   : 20}\n",
    "\n",
    "mlib.rc('font', **font)"
   ]
  },
  {
   "cell_type": "code",
   "execution_count": 25,
   "metadata": {},
   "outputs": [],
   "source": [
    "def histosFromFiles(folder, binwidth, iftoreverse,linewidth=None):\n",
    "    \n",
    "    #reading files with histos info (reverse fuction changes the order of the files)\n",
    "    files = sorted(glob.glob( folder+'/*.dat'),reverse=iftoreverse)\n",
    "    #print(files)\n",
    "    \n",
    "    '''\n",
    "    #reading cross sections and luminocities to calculate weights\n",
    "    sigmaLumi=[]\n",
    "    with open (folder+'/cross-section_lumi.txt', 'r') as f:\n",
    "        for row in csv.reader(f,delimiter='\\t'):\n",
    "            sigmaLumi.append(row)\n",
    "    sigmaLumi=sigmaLumi[1:]\n",
    "    print(sigmaLumi)\n",
    "    '''\n",
    "    \n",
    "    normalize = mcolors.Normalize(0, len(files))\n",
    "    \n",
    "    global usedcolors\n",
    "    usedcolors=[]\n",
    "    \n",
    "    print(linewidth[1])\n",
    "    print(len(files))\n",
    "    print(len(linewidth))\n",
    "    \n",
    "    if len(linewidth) == len(files):\n",
    "        width=linewidth\n",
    "    else:\n",
    "        width=[2]*len(files)\n",
    "    print(width)\n",
    "    \n",
    "    for filenum, file in enumerate(files):\n",
    "        print(file)\n",
    "        histoarray = np.array(genfromtxt(file))\n",
    "        nbins=np.int(np.amax(histoarray)/binwidth)\n",
    "        n, bins, patches = plt.hist(histoarray, bins=nbins, density=True, histtype='step',fill=False,\\\n",
    "                            alpha=1, rwidth=1, color=colormap(normalize(filenum)),linewidth=width[filenum],zorder=2)\n",
    "        print(histoarray.size)\n",
    "        usedcolors.append(colormap(normalize(filenum)))\n",
    "    #print(usedcolors)"
   ]
  },
  {
   "cell_type": "code",
   "execution_count": 26,
   "metadata": {},
   "outputs": [],
   "source": [
    "colormap = cm.viridis"
   ]
  },
  {
   "cell_type": "code",
   "execution_count": 37,
   "metadata": {},
   "outputs": [
    {
     "name": "stdout",
     "output_type": "stream",
     "text": [
      "2.5\n",
      "5\n",
      "5\n",
      "[2.5, 2.5, 2.5, 4.3, 2.5]\n",
      "histos/pT_mCfixed_mlvaries/pTl_rr5.00e-08_mS2.75e+02_mT3.24e+02.dat\n",
      "100000\n",
      "histos/pT_mCfixed_mlvaries/pTl_rr5.00e-08_mS2.85e+02_mT3.24e+02.dat\n",
      "100000\n",
      "histos/pT_mCfixed_mlvaries/pTl_rr5.00e-08_mS2.95e+02_mT3.24e+02.dat\n",
      "100000\n",
      "histos/pT_mCfixed_mlvaries/pTl_rr5.00e-08_mS3.05e+02_mT3.24e+02.dat\n",
      "100000\n",
      "histos/pT_mCfixed_mlvaries/pTl_rr5.00e-08_mS3.14e+02_mT3.24e+02.dat\n",
      "100000\n"
     ]
    },
    {
     "data": {
      "image/png": "[encoded data removed]",
      "text/plain": [
       "<Figure size 576x432 with 1 Axes>"
      ]
     },
     "metadata": {
      "needs_background": "light"
     },
     "output_type": "display_data"
    }
   ],
   "source": [
    "#pTl: mC fixed, ml varies\n",
    "\n",
    "plt.figure(figsize=(8, 6))\n",
    "ax = plt.gca()\n",
    "\n",
    "ax.axvline(20,color =\"gray\", linestyle =\"-\",linewidth=1.5,zorder=1)\n",
    "ax.axvline(40,color =\"gray\", linestyle =\"--\",linewidth=1.5,zorder=1)\n",
    "\n",
    "histosFromFiles('histos/pT_mCfixed_mlvaries',2,False,linewidth=[2.5,2.5,2.5,4.3,2.5])\n",
    "\n",
    "\n",
    "ax.set_xlim(0,70)\n",
    "ax.set_ylim(10**(-3),2*10**(-1))\n",
    "ax.set_yscale(\"log\")\n",
    "\n",
    "#ax.set_yticks([2e-3,10**(-2),10**(-1)])\n",
    "#f = mlib.ticker.ScalarFormatter(useOffset=False, useMathText=True)\n",
    "#g = lambda x,pos : \"${}$\".format(f._formatSciNotation('%1.10e' % x))\n",
    "#ax.get_yaxis().set_major_formatter(mlib.ticker.FuncFormatter(g))\n",
    "#ax.get_yaxis().set_major_formatter(mlib.ticker.ScalarFormatter())\n",
    "\n",
    "#plt.title(\"$m_C=324$\")\n",
    "plt.xlabel('lepton $p_T$ [GeV]')\n",
    "plt.ylabel('$\\sigma^{-1}\\ d\\\\sigma\\,/\\,d p_{T}$')\n",
    "#plt.ylabel('$\\\\frac{d\\\\sigma}{\\sigma\\ d p_{T}\\,(l)}$',fontsize=20\n",
    "ax.xaxis.set_label_coords(0.86, -0.09)\n",
    "ax.yaxis.set_label_coords(-0.11,0.85)\n",
    "\n",
    "#mpatches.Rectangle(height=2)\n",
    "\n",
    "patch1=mlines.Line2D([],[],color=usedcolors[0], linewidth=2.5,label='50')\n",
    "patch2=mlines.Line2D([],[],color=usedcolors[1], linewidth=2.5,label='40')\n",
    "patch3=mlines.Line2D([],[],color=usedcolors[2], linewidth=2.5,label='30')\n",
    "patch4=mlines.Line2D([],[],color=usedcolors[3], linewidth=4.3,label='20')\n",
    "patch5=mlines.Line2D([],[],color=usedcolors[4], linewidth=2.5,label='10')\n",
    "\n",
    "\n",
    "plt.legend(handles=[patch5,patch4,patch3,patch2,patch1],handlelength=1.5,loc='upper right',title=\"$\\\\Delta m$ [GeV]\",shadow=None,\\\n",
    "           edgecolor='white',bbox_to_anchor=(0.99, 0.5, 0.0001, 0.5))\n",
    "\n",
    "#ylabels = [f._formatSciNotation('%1.10e' % w).replace('{\\\\times}', '\\cdot') for w in ax.get_yticks()]\n",
    "#ax.set_yticklabels([f'${i}$' for i in ylabels])\n",
    "\n",
    "ax.tick_params(which=\"major\",axis=\"both\",direction=\"in\",color=\"black\",length=10,width=2.5)\n",
    "ax.tick_params(which=\"minor\",axis=\"both\",direction=\"in\",color=\"black\",length=5,width=2)\n",
    "\n",
    "for child in ax.get_children():\n",
    "    if isinstance(child, mlib.spines.Spine):\n",
    "        child.set_color('black')\n",
    "        child.set_linewidth(2)\n",
    "\n",
    "\n",
    "plt.savefig('pT_different_splittings.png')"
   ]
  },
  {
   "cell_type": "code",
   "execution_count": null,
   "metadata": {},
   "outputs": [],
   "source": []
  }
 ],
 "metadata": {
  "kernelspec": {
   "display_name": "Python 3",
   "language": "python",
   "name": "python3"
  },
  "language_info": {
   "codemirror_mode": {
    "name": "ipython",
    "version": 3
   },
   "file_extension": ".py",
   "mimetype": "text/x-python",
   "name": "python",
   "nbconvert_exporter": "python",
   "pygments_lexer": "ipython3",
   "version": "3.7.5"
  }
 },
 "nbformat": 4,
 "nbformat_minor": 4
}
