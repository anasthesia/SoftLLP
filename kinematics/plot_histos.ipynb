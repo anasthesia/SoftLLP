{
 "cells": [
  {
   "cell_type": "code",
   "execution_count": 172,
   "metadata": {},
   "outputs": [],
   "source": [
    "import glob\n",
    "import matplotlib as mlib\n",
    "import matplotlib.pyplot as plt\n",
    "import numpy as np\n",
    "from numpy import genfromtxt\n",
    "from numpy import loadtxt\n",
    "import re\n",
    "import csv\n",
    "import matplotlib.colors as mcolors\n",
    "import matplotlib.cm as cm\n",
    "import matplotlib.patches as mpatches"
   ]
  },
  {
   "cell_type": "code",
   "execution_count": 168,
   "metadata": {},
   "outputs": [],
   "source": [
    "#Plotting settings\n",
    "font = {\n",
    "        'weight' : 'normal',\n",
    "        'size'   : 16}\n",
    "\n",
    "mlib.rc('font', **font)\n",
    "\n",
    "#color scheme\n",
    "colormap = cm.jet"
   ]
  },
  {
   "cell_type": "code",
   "execution_count": 163,
   "metadata": {},
   "outputs": [
    {
     "name": "stdout",
     "output_type": "stream",
     "text": [
      "(0.0, 1.0, 0.5, 1.0)\n"
     ]
    }
   ],
   "source": [
    "print(colormap(10000))"
   ]
  },
  {
   "cell_type": "code",
   "execution_count": 201,
   "metadata": {},
   "outputs": [],
   "source": [
    "def histosFromFiles(folder, nbins):\n",
    "    \n",
    "    #reading files with histos info\n",
    "    files = glob.glob( folder+'/*.dat')\n",
    "    print(files)\n",
    "    \n",
    "    \n",
    "    #reading cross sections and luminocities to calculate weights\n",
    "    sigmaLumi=[]\n",
    "    with open (folder+'/cross-section_lumi.txt', 'r') as f:\n",
    "        for row in csv.reader(f,delimiter='\\t'):\n",
    "            sigmaLumi.append(row)\n",
    "    sigmaLumi=sigmaLumi[1:]\n",
    "    print(sigmaLumi)\n",
    "    \n",
    "    normalize = mcolors.Normalize(0, len(files))\n",
    "    \n",
    "    global usedcolors\n",
    "    usedcolors=[]\n",
    "    for filenum, file in enumerate(files):\n",
    "        histoarray = np.array(genfromtxt(file))\n",
    "        \n",
    "        n, bins, patches = plt.hist(histoarray, bins=nbins, weights=np.full(histoarray.size,1/histoarray.size),\\\n",
    "                            alpha=0.7, rwidth=1, color=colormap(normalize(filenum)))\n",
    "        usedcolors.append(colormap(normalize(filenum)))\n",
    "    #print(usedcolors)"
   ]
  },
  {
   "cell_type": "code",
   "execution_count": 206,
   "metadata": {},
   "outputs": [
    {
     "name": "stdout",
     "output_type": "stream",
     "text": [
      "['histos/pT/pTl_100.dat', 'histos/pT/pTl_500.dat', 'histos/pT/pTl_300.dat']\n",
      "[['pTl_100.dat', '0.668', '300'], ['pTl_300.dat', '0.0119', '300'], ['pTl_500.dat', '0.00141', '300']]\n"
     ]
    },
    {
     "data": {
      "text/plain": [
       "<matplotlib.legend.Legend at 0x7f79902c5da0>"
      ]
     },
     "execution_count": 206,
     "metadata": {},
     "output_type": "execute_result"
    },
    {
     "data": {
      "image/png": "[encoded data removed]",
      "text/plain": [
       "<Figure size 576x432 with 1 Axes>"
      ]
     },
     "metadata": {
      "needs_background": "light"
     },
     "output_type": "display_data"
    }
   ],
   "source": [
    "#printing pT\n",
    "\n",
    "plt.figure(figsize=(8, 6))\n",
    "\n",
    "histosFromFiles('histos/pT',60)\n",
    "\n",
    "\n",
    "plt.xlim(0,60)\n",
    "plt.ylim(10**(-4),8*10**(-1))\n",
    "plt.yscale(\"log\")\n",
    "\n",
    "plt.xlabel('$p_T(l^+)$')\n",
    "plt.ylabel('$d\\\\sigma/d p_T(l^+)/\\\\sigma$')\n",
    "\n",
    "\n",
    "patch1 = mpatches.Patch(color=usedcolors[0], label='$m_l=100$')\n",
    "patch2 = mpatches.Patch(color=usedcolors[1], label='$m_l=300$')\n",
    "patch3 = mpatches.Patch(color=usedcolors[2], label='$m_l=500$')\n",
    "plt.legend(handles=[patch1, patch2, patch3],loc='upper right')\n",
    "\n",
    "#plt.savefig('ptl_bencmark.png')"
   ]
  },
  {
   "cell_type": "code",
   "execution_count": null,
   "metadata": {},
   "outputs": [],
   "source": []
  }
 ],
 "metadata": {
  "kernelspec": {
   "display_name": "Python 3",
   "language": "python",
   "name": "python3"
  },
  "language_info": {
   "codemirror_mode": {
    "name": "ipython",
    "version": 3
   },
   "file_extension": ".py",
   "mimetype": "text/x-python",
   "name": "python",
   "nbconvert_exporter": "python",
   "pygments_lexer": "ipython3",
   "version": "3.7.2"
  }
 },
 "nbformat": 4,
 "nbformat_minor": 2
}
