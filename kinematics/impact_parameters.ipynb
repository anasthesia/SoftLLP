{
 "cells": [
  {
   "cell_type": "code",
   "execution_count": 16,
   "metadata": {},
   "outputs": [],
   "source": [
    "import glob\n",
    "import os\n",
    "import matplotlib as mlib\n",
    "import matplotlib.pyplot as plt\n",
    "import numpy as np\n",
    "from numpy import genfromtxt\n",
    "from numpy import loadtxt\n",
    "import re\n",
    "import csv\n",
    "import matplotlib.colors as mcolors\n",
    "import matplotlib.cm as cm\n",
    "import matplotlib.patches as mpatches"
   ]
  },
  {
   "cell_type": "code",
   "execution_count": 30,
   "metadata": {},
   "outputs": [],
   "source": [
    "# d0 for lectrons and muons separately\\n\n",
    "def impact_d0(folder):\n",
    "    #reading pythia output\n",
    "    files = sorted(glob.glob( folder+'/*'))\n",
    "    print(files)\n",
    "\n",
    "    \n",
    "    \n",
    "    #open hepmc file\n",
    "    for filenum, file in enumerate(files):\n",
    "        hepmc=[]\n",
    "        d0_l=[]\n",
    "        d0_e=[]\n",
    "        d0_mu=[]\n",
    "        pT_e=[]\n",
    "        pT_mu=[]\n",
    "        print(file)\n",
    "        with open (file, 'r') as f:\n",
    "            for rownum,row in enumerate(csv.reader(f,delimiter=' ')):\n",
    "                if (len(row)>4):\n",
    "                    hepmc.append(row)\n",
    "\n",
    "        print(len(hepmc)) \n",
    "        \n",
    "        counte=0\n",
    "        countmu=0\n",
    "        countevents=0\n",
    "        countV0=0\n",
    "        for rownum ,row in enumerate(hepmc):\n",
    "            #print(hepmc[rownum][0])\n",
    "            #finding vertex\n",
    "            if (row[0]=='E'):\n",
    "                countevents+=1\n",
    "            if (row[0]=='V'):\n",
    "                #print('V=',row)\n",
    "                ip=rownum+1\n",
    "                #finding electron/muon related to this vertex (knowing that max 3 particles can originate from it)\n",
    "                for i in range(0,2): \n",
    "                    #print(hepmc[ip+i])\n",
    "                    if (ip+i<len(hepmc)):\n",
    "                        if (hepmc[ip+i][2]=='11'):\n",
    "                            counte+=1\n",
    "                            #print(hepmc[ip+i][2:6])\n",
    "                            V=np.array(row[3:6], float)\n",
    "                            P=np.array(hepmc[ip+i][3:6], float)\n",
    "\n",
    "                            #calculating |d0|\n",
    "                            VT=np.sqrt(V[0]**2+V[1]**2)\n",
    "                            PT=np.sqrt(P[0]**2+P[1]**2)\n",
    "                            \n",
    "                            if ((V[0]!=0)&(V[1]!=0)&(V[2]!=0)): \n",
    "                                cTheta=(V[0]*P[0]+V[1]*P[1])/(VT*PT)\n",
    "                                \n",
    "                                d0_e.append(PT*np.sqrt(1-cTheta**2))\n",
    "                                \n",
    "                            else: \n",
    "                                countV0+=1\n",
    "                                d0_e.append(0)\n",
    "                                \n",
    "                            pT_e.append(PT)    \n",
    "                            \n",
    "                            \n",
    "                        if (hepmc[ip+i][2]=='13'):\n",
    "                            countmu+=1\n",
    "                            #print(hepmc[ip+i][2:6])\n",
    "                            V=np.array(row[3:6], float)\n",
    "                            P=np.array(hepmc[ip+i][3:6], float)\n",
    "                            #print(P)\n",
    "\n",
    "                            #calculating |d0|\n",
    "                            VT=np.sqrt(V[0]**2+V[1]**2)\n",
    "                            PT=np.sqrt(P[0]**2+P[1]**2)\n",
    "                            \n",
    "                            if ((V[0]!=0)&(V[1]!=0)&(V[2]!=0)):  \n",
    "                                cTheta=(V[0]*P[0]+V[1]*P[1])/(VT*PT)\n",
    "                                \n",
    "                                d0_mu.append(PT*np.sqrt(1-cTheta**2))\n",
    "                                \n",
    "                            else: \n",
    "                                countV0+=1\n",
    "                                d0_mu.append(0)\n",
    "                            \n",
    "                            pT_mu.append(PT)\n",
    "\n",
    "                        i+=1\n",
    "        #print(d0_l)\n",
    "    \n",
    "        print(\"# events = {}\".format(countevents)+\"# e = {}\".format(counte)+\"# mu = {}\".format(countmu)\\\n",
    "              +\"# V(primary) = {}\".format(countV0))\n",
    "        \n",
    "        #Saving d0 to file\n",
    "        with open(\"hepmc_output/d0_e.dat\", 'a+') as foute:\n",
    "                        #fout.write('# d0 [mm]' + '\\n')\n",
    "                        np.savetxt(foute, d0_e, fmt='%7f')   \n",
    "                    \n",
    "        with open(\"hepmc_output/d0_mu.dat\", 'a+') as foutmu:\n",
    "                        #fout.write('# d0 [mm]' + '\\n')\n",
    "                        np.savetxt(foutmu, d0_mu, fmt='%7f')\n",
    "                    \n",
    "        #Saving pT to file\n",
    "        with open(\"hepmc_output/pT_e.dat\", 'a+') as foute:\n",
    "                        np.savetxt(foute, pT_e, fmt='%7f')   \n",
    "                    \n",
    "        with open(\"hepmc_output/pT_mu.dat\", 'a+') as foutmu:\n",
    "                        np.savetxt(foutmu, pT_mu, fmt='%7f')"
   ]
  },
  {
   "cell_type": "code",
   "execution_count": 43,
   "metadata": {},
   "outputs": [],
   "source": [
    "# lifetime of chi_+\n",
    "def lifetime(folder):\n",
    "    #reading pythia output\n",
    "    files = sorted(glob.glob( folder+'/*'))\n",
    "    print(files)\n",
    "\n",
    "    \n",
    "    \n",
    "    #open hepmc file\n",
    "    for filenum, file in enumerate(files):\n",
    "        hepmc=[]\n",
    "        ctau_plus=[]\n",
    "\n",
    "        print(file)\n",
    "        with open (file, 'r') as f:\n",
    "            for rownum,row in enumerate(csv.reader(f,delimiter=' ')):\n",
    "                if (len(row)>4):\n",
    "                    hepmc.append(row)\n",
    "\n",
    "        print(len(hepmc)) \n",
    "        \n",
    "        counte=0\n",
    "        countmu=0\n",
    "        countevents=0\n",
    "        countV0=0\n",
    "        for rownum ,row in enumerate(hepmc):\n",
    "            #print(hepmc[rownum][0])\n",
    "            #finding vertex\n",
    "            if (row[0]=='E'):\n",
    "                countevents+=1\n",
    "            if (row[0]=='V'):\n",
    "                #print('V=',row)\n",
    "                ip=rownum+1\n",
    "                #finding electron/muon related to this vertex (knowing that max 3 particles can originate from it)\n",
    "                for i in range(0,2): \n",
    "                    #print(hepmc[ip+i])\n",
    "                    if (ip+i<len(hepmc)):\n",
    "                        if (hepmc[ip+i][2]=='11') or (hepmc[ip+i][2]=='13'):\n",
    "                            counte+=1\n",
    "                            #print(hepmc[ip+i][2:6])\n",
    "                            V=np.array(row[3:6], float)\n",
    "                            P=np.array(hepmc[ip+i][3:6], float)\n",
    "\n",
    "                            #calculating |d0|\n",
    "                            ctau_plus.append(np.sqrt(V[0]**2+V[1]**2+V[2]**2))\n",
    "                            #print(row)\n",
    "                            #print(V, np.sqrt(V[0]**2+V[1]**2+V[2]**2), row[7])\n",
    "                              \n",
    "\n",
    "                        i+=1\n",
    "        #print(d0_l)\n",
    "    \n",
    "        #print(\"# events = {}\".format(countevents)+\"# e = {}\".format(counte)+\"# mu = {}\".format(countmu)\\\n",
    "        #      +\"# V(primary) = {}\".format(countV0))\n",
    "        \n",
    "        #Saving d0 to file\n",
    "        with open(\"hepmc_output/ctau_plus.dat\", 'a+') as fout:\n",
    "                        #fout.write('# d0 [mm]' + '\\n')\n",
    "                        np.savetxt(fout, ctau_plus, fmt='%7f')   "
   ]
  },
  {
   "cell_type": "code",
   "execution_count": 17,
   "metadata": {},
   "outputs": [],
   "source": [
    "#choosing var1 & var2 with respect to cut on var1\n",
    "\n",
    "def chooseWithCut(file1,file2,variable1,variable2,output_folder,cut_file1):\n",
    "    var1 = np.array(genfromtxt(file1))\n",
    "    var2 = np.array(genfromtxt(file2))\n",
    "    \n",
    "    print(var2[var1>cut_file1])\n",
    "    \n",
    "    var1New=var1[var1>cut_file1]\n",
    "    var2New=var2[var1>cut_file1]\n",
    "    \n",
    "    oute=output_folder+\"_cut/\"\n",
    "    \n",
    "    os.makedirs(os.path.dirname(oute), exist_ok=True)\n",
    "    \n",
    "    with open(out+variable1+'.dat', 'w') as fout1:\n",
    "        np.savetxt(fout1, var1New, fmt='%7f')\n",
    "    \n",
    "    with open(out+variable1+'.dat', 'w') as fout2:\n",
    "        np.savetxt(fout2, var2New, fmt='%7f')"
   ]
  },
  {
   "cell_type": "code",
   "execution_count": 24,
   "metadata": {},
   "outputs": [
    {
     "name": "stdout",
     "output_type": "stream",
     "text": [
      "[0. 0. 0. ... 0. 0. 0.]\n"
     ]
    }
   ],
   "source": [
    "chooseWithCut('histos/pT_pythia/pT_e.dat','histos/d0_real/d0_e.dat','pT','d0','e_cut',10)"
   ]
  },
  {
   "cell_type": "code",
   "execution_count": 25,
   "metadata": {},
   "outputs": [
    {
     "name": "stdout",
     "output_type": "stream",
     "text": [
      "[0. 0. 0. ... 0. 0. 0.]\n"
     ]
    }
   ],
   "source": [
    "chooseWithCut('histos/pT_pythia/pT_mu.dat','histos/d0_real/d0_mu.dat','pT','d0','mu_cut',10)"
   ]
  },
  {
   "cell_type": "code",
   "execution_count": 28,
   "metadata": {},
   "outputs": [
    {
     "name": "stdout",
     "output_type": "stream",
     "text": [
      "[ 22.48824   10.95337   11.590138  26.533526  25.661871  33.347054\n",
      "  47.180525  16.65553   34.454754  38.943485  51.863642  21.265549\n",
      "  41.956833  10.046094  14.016573  10.170316  21.103116  16.063442\n",
      "  15.81082   16.122646  15.000018 155.647521  11.611274  30.606574\n",
      "  62.31787   17.306301  14.10992   15.199604  12.850379  23.766619\n",
      "  12.360929  43.298761 175.8681    17.53558   49.342838  35.68634\n",
      "  15.541663  23.859052  20.732581  15.205266  19.28075   13.890731\n",
      "  20.855286  12.019492  13.51624   10.376472  12.002468  25.395985\n",
      "  29.198502  16.549653  10.107551  20.459342  14.301696  10.003159\n",
      "  18.519944  14.692021  25.919166  12.330411  49.719596  12.664613\n",
      "  15.921522  10.202953  10.098852  20.235758  13.762713  10.322614\n",
      "  26.013009  13.441925  48.884146  17.22727   15.377062 161.693488\n",
      "  13.431368  11.921576  19.780699  17.602177  11.816107  14.882669\n",
      "  10.774668  10.456395  11.115739  14.626191  62.65736   41.278775\n",
      "  10.765434  10.472835 116.073597  11.347817  25.354522  19.462205]\n"
     ]
    }
   ],
   "source": [
    "chooseWithCut('mu_cut_cutd0','mu_cut_cutpT','d0','pT','mu_cutd0',0.1)"
   ]
  },
  {
   "cell_type": "code",
   "execution_count": 29,
   "metadata": {},
   "outputs": [
    {
     "name": "stdout",
     "output_type": "stream",
     "text": [
      "[16.510124 74.856627 18.278645 14.420051 26.081339 10.052906 38.009223\n",
      " 16.739465 11.62326  45.46512  30.778797 45.345274 10.750851 11.731046\n",
      " 25.356011 22.856074 12.454772 62.04214  12.199269 29.058587 15.646389\n",
      " 53.116439 17.570276 30.93712  23.731003 11.63663  29.715172 14.440059\n",
      " 16.775751 25.997271 19.310832 74.075755 18.395727 15.509746 17.6158\n",
      " 17.415424 21.572153 10.222176 17.33624  19.72876  22.507979 39.546741\n",
      " 13.779528 11.504213 62.639314 12.236002 35.496261 15.499421 10.948644\n",
      " 28.568007 15.029108 28.841759 10.004351 32.889439 19.831541 39.478919\n",
      " 18.178901 25.938783 19.192789 27.408195 22.941176 49.157454 13.094178\n",
      " 19.280946 18.744305 42.862113 18.895644 12.078462 13.824418 19.172304\n",
      " 19.196477 10.800636 50.351624 10.672964 46.990916 10.935708 31.722816\n",
      " 67.992224 42.78604  62.086922 30.144308 11.193355 73.67114  11.976523\n",
      " 20.887525 11.266953 53.870963 10.685612 13.26258  12.112184 12.836717\n",
      " 28.599665 10.139282 15.554587 12.227823 28.774732 36.914607 12.981845\n",
      " 10.910213 21.536228 14.087333 68.035384 20.570566 11.352288]\n"
     ]
    }
   ],
   "source": [
    "chooseWithCut('e_cut_cutd0','e_cut_cutpT','d0','pT','e_cutd0',0.1)"
   ]
  },
  {
   "cell_type": "code",
   "execution_count": 38,
   "metadata": {
    "scrolled": true
   },
   "outputs": [
    {
     "name": "stdout",
     "output_type": "stream",
     "text": [
      "[]\n"
     ]
    }
   ],
   "source": [
    "impact_d0('hepmc_large_split')"
   ]
  },
  {
   "cell_type": "code",
   "execution_count": 31,
   "metadata": {
    "scrolled": true
   },
   "outputs": [
    {
     "name": "stdout",
     "output_type": "stream",
     "text": [
      "['hepmc_rr1.00e-08_mS3.04e+02_mT3.24e+02/pythiaaa', 'hepmc_rr1.00e-08_mS3.04e+02_mT3.24e+02/pythiaab', 'hepmc_rr1.00e-08_mS3.04e+02_mT3.24e+02/pythiaac', 'hepmc_rr1.00e-08_mS3.04e+02_mT3.24e+02/pythiaad', 'hepmc_rr1.00e-08_mS3.04e+02_mT3.24e+02/pythiaae', 'hepmc_rr1.00e-08_mS3.04e+02_mT3.24e+02/pythiaaf', 'hepmc_rr1.00e-08_mS3.04e+02_mT3.24e+02/pythiaag', 'hepmc_rr1.00e-08_mS3.04e+02_mT3.24e+02/pythiaah', 'hepmc_rr1.00e-08_mS3.04e+02_mT3.24e+02/pythiaai', 'hepmc_rr1.00e-08_mS3.04e+02_mT3.24e+02/pythiaaj', 'hepmc_rr1.00e-08_mS3.04e+02_mT3.24e+02/pythiaak', 'hepmc_rr1.00e-08_mS3.04e+02_mT3.24e+02/pythiaal', 'hepmc_rr1.00e-08_mS3.04e+02_mT3.24e+02/pythiaam', 'hepmc_rr1.00e-08_mS3.04e+02_mT3.24e+02/pythiaan', 'hepmc_rr1.00e-08_mS3.04e+02_mT3.24e+02/pythiaao', 'hepmc_rr1.00e-08_mS3.04e+02_mT3.24e+02/pythiaap', 'hepmc_rr1.00e-08_mS3.04e+02_mT3.24e+02/pythiaaq', 'hepmc_rr1.00e-08_mS3.04e+02_mT3.24e+02/pythiaar', 'hepmc_rr1.00e-08_mS3.04e+02_mT3.24e+02/pythiaas']\n",
      "hepmc_rr1.00e-08_mS3.04e+02_mT3.24e+02/pythiaaa\n",
      "3051941\n",
      "# events = 5473# e = 6008# mu = 3815# V(primary) = 50\n",
      "hepmc_rr1.00e-08_mS3.04e+02_mT3.24e+02/pythiaab\n",
      "3051802\n",
      "# events = 5462# e = 6023# mu = 3667# V(primary) = 39\n",
      "hepmc_rr1.00e-08_mS3.04e+02_mT3.24e+02/pythiaac\n",
      "3052119\n",
      "# events = 5459# e = 5940# mu = 3723# V(primary) = 47\n",
      "hepmc_rr1.00e-08_mS3.04e+02_mT3.24e+02/pythiaad\n",
      "3052723\n",
      "# events = 5477# e = 5955# mu = 3747# V(primary) = 42\n",
      "hepmc_rr1.00e-08_mS3.04e+02_mT3.24e+02/pythiaae\n",
      "3051464\n",
      "# events = 5485# e = 5946# mu = 3780# V(primary) = 43\n",
      "hepmc_rr1.00e-08_mS3.04e+02_mT3.24e+02/pythiaaf\n",
      "3051306\n",
      "# events = 5436# e = 5970# mu = 3742# V(primary) = 46\n",
      "hepmc_rr1.00e-08_mS3.04e+02_mT3.24e+02/pythiaag\n",
      "3050722\n",
      "# events = 5465# e = 5968# mu = 3811# V(primary) = 42\n",
      "hepmc_rr1.00e-08_mS3.04e+02_mT3.24e+02/pythiaah\n",
      "3052637\n",
      "# events = 5410# e = 6073# mu = 3705# V(primary) = 46\n",
      "hepmc_rr1.00e-08_mS3.04e+02_mT3.24e+02/pythiaai\n",
      "3051961\n",
      "# events = 5449# e = 5806# mu = 3839# V(primary) = 25\n",
      "hepmc_rr1.00e-08_mS3.04e+02_mT3.24e+02/pythiaaj\n",
      "3051270\n",
      "# events = 5463# e = 5831# mu = 3904# V(primary) = 43\n",
      "hepmc_rr1.00e-08_mS3.04e+02_mT3.24e+02/pythiaak\n",
      "3051400\n",
      "# events = 5483# e = 6066# mu = 3873# V(primary) = 47\n",
      "hepmc_rr1.00e-08_mS3.04e+02_mT3.24e+02/pythiaal\n",
      "3052205\n",
      "# events = 5461# e = 5847# mu = 3741# V(primary) = 63\n",
      "hepmc_rr1.00e-08_mS3.04e+02_mT3.24e+02/pythiaam\n",
      "3050348\n",
      "# events = 5520# e = 6051# mu = 3732# V(primary) = 46\n",
      "hepmc_rr1.00e-08_mS3.04e+02_mT3.24e+02/pythiaan\n",
      "3051669\n",
      "# events = 5483# e = 5950# mu = 3743# V(primary) = 28\n",
      "hepmc_rr1.00e-08_mS3.04e+02_mT3.24e+02/pythiaao\n",
      "3051527\n",
      "# events = 5468# e = 6029# mu = 3735# V(primary) = 18\n",
      "hepmc_rr1.00e-08_mS3.04e+02_mT3.24e+02/pythiaap\n",
      "3052362\n",
      "# events = 5501# e = 5977# mu = 3774# V(primary) = 34\n",
      "hepmc_rr1.00e-08_mS3.04e+02_mT3.24e+02/pythiaaq\n",
      "3053310\n",
      "# events = 5415# e = 5780# mu = 3697# V(primary) = 50\n",
      "hepmc_rr1.00e-08_mS3.04e+02_mT3.24e+02/pythiaar\n",
      "3052312\n",
      "# events = 5430# e = 5940# mu = 3765# V(primary) = 41\n",
      "hepmc_rr1.00e-08_mS3.04e+02_mT3.24e+02/pythiaas\n",
      "919071\n",
      "# events = 1660# e = 1827# mu = 1195# V(primary) = 19\n"
     ]
    }
   ],
   "source": [
    "impact_d0('hepmc_rr1.00e-08_mS3.04e+02_mT3.24e+02')"
   ]
  },
  {
   "cell_type": "code",
   "execution_count": 44,
   "metadata": {
    "scrolled": false
   },
   "outputs": [
    {
     "name": "stdout",
     "output_type": "stream",
     "text": [
      "['hepmc_rr1.00e-08_mS3.04e+02_mT3.24e+02/pythiaaa', 'hepmc_rr1.00e-08_mS3.04e+02_mT3.24e+02/pythiaab', 'hepmc_rr1.00e-08_mS3.04e+02_mT3.24e+02/pythiaac', 'hepmc_rr1.00e-08_mS3.04e+02_mT3.24e+02/pythiaad', 'hepmc_rr1.00e-08_mS3.04e+02_mT3.24e+02/pythiaae', 'hepmc_rr1.00e-08_mS3.04e+02_mT3.24e+02/pythiaaf', 'hepmc_rr1.00e-08_mS3.04e+02_mT3.24e+02/pythiaag', 'hepmc_rr1.00e-08_mS3.04e+02_mT3.24e+02/pythiaah', 'hepmc_rr1.00e-08_mS3.04e+02_mT3.24e+02/pythiaai', 'hepmc_rr1.00e-08_mS3.04e+02_mT3.24e+02/pythiaaj', 'hepmc_rr1.00e-08_mS3.04e+02_mT3.24e+02/pythiaak', 'hepmc_rr1.00e-08_mS3.04e+02_mT3.24e+02/pythiaal', 'hepmc_rr1.00e-08_mS3.04e+02_mT3.24e+02/pythiaam', 'hepmc_rr1.00e-08_mS3.04e+02_mT3.24e+02/pythiaan', 'hepmc_rr1.00e-08_mS3.04e+02_mT3.24e+02/pythiaao', 'hepmc_rr1.00e-08_mS3.04e+02_mT3.24e+02/pythiaap', 'hepmc_rr1.00e-08_mS3.04e+02_mT3.24e+02/pythiaaq', 'hepmc_rr1.00e-08_mS3.04e+02_mT3.24e+02/pythiaar', 'hepmc_rr1.00e-08_mS3.04e+02_mT3.24e+02/pythiaas']\n",
      "hepmc_rr1.00e-08_mS3.04e+02_mT3.24e+02/pythiaaa\n",
      "3051941\n",
      "hepmc_rr1.00e-08_mS3.04e+02_mT3.24e+02/pythiaab\n",
      "3051802\n",
      "hepmc_rr1.00e-08_mS3.04e+02_mT3.24e+02/pythiaac\n",
      "3052119\n",
      "hepmc_rr1.00e-08_mS3.04e+02_mT3.24e+02/pythiaad\n",
      "3052723\n",
      "hepmc_rr1.00e-08_mS3.04e+02_mT3.24e+02/pythiaae\n",
      "3051464\n",
      "hepmc_rr1.00e-08_mS3.04e+02_mT3.24e+02/pythiaaf\n",
      "3051306\n",
      "hepmc_rr1.00e-08_mS3.04e+02_mT3.24e+02/pythiaag\n",
      "3050722\n",
      "hepmc_rr1.00e-08_mS3.04e+02_mT3.24e+02/pythiaah\n",
      "3052637\n",
      "hepmc_rr1.00e-08_mS3.04e+02_mT3.24e+02/pythiaai\n",
      "3051961\n",
      "hepmc_rr1.00e-08_mS3.04e+02_mT3.24e+02/pythiaaj\n",
      "3051270\n",
      "hepmc_rr1.00e-08_mS3.04e+02_mT3.24e+02/pythiaak\n",
      "3051400\n",
      "hepmc_rr1.00e-08_mS3.04e+02_mT3.24e+02/pythiaal\n",
      "3052205\n",
      "hepmc_rr1.00e-08_mS3.04e+02_mT3.24e+02/pythiaam\n",
      "3050348\n",
      "hepmc_rr1.00e-08_mS3.04e+02_mT3.24e+02/pythiaan\n",
      "3051669\n",
      "hepmc_rr1.00e-08_mS3.04e+02_mT3.24e+02/pythiaao\n",
      "3051527\n",
      "hepmc_rr1.00e-08_mS3.04e+02_mT3.24e+02/pythiaap\n",
      "3052362\n",
      "hepmc_rr1.00e-08_mS3.04e+02_mT3.24e+02/pythiaaq\n",
      "3053310\n",
      "hepmc_rr1.00e-08_mS3.04e+02_mT3.24e+02/pythiaar\n",
      "3052312\n",
      "hepmc_rr1.00e-08_mS3.04e+02_mT3.24e+02/pythiaas\n",
      "919071\n"
     ]
    }
   ],
   "source": [
    "lifetime('hepmc_rr1.00e-08_mS3.04e+02_mT3.24e+02')"
   ]
  },
  {
   "cell_type": "code",
   "execution_count": 19,
   "metadata": {},
   "outputs": [
    {
     "name": "stdout",
     "output_type": "stream",
     "text": [
      "[ 7.974428 11.289619  3.867146 ... 12.838999 12.781385  0.875444]\n"
     ]
    }
   ],
   "source": [
    "chooseWithCut('hepmc_output/pT_e.dat','hepmc_output/d0_e.dat','pT','d0','histos/d0_ctau2cm_pT10_e',10)"
   ]
  },
  {
   "cell_type": "code",
   "execution_count": 20,
   "metadata": {
    "scrolled": true
   },
   "outputs": [
    {
     "name": "stdout",
     "output_type": "stream",
     "text": [
      "[4.770571 0.31015  0.310149 ... 0.492623 0.263741 6.539914]\n"
     ]
    }
   ],
   "source": [
    "chooseWithCut('hepmc_output/pT_mu.dat','hepmc_output/d0_mu.dat','pT','d0','histos/d0_ctau2cm_pT10_mu',10)"
   ]
  },
  {
   "cell_type": "code",
   "execution_count": 21,
   "metadata": {},
   "outputs": [
    {
     "name": "stdout",
     "output_type": "stream",
     "text": [
      "[]\n"
     ]
    }
   ],
   "source": [
    "chooseWithCut('hepmc_output/d0_e.dat','hepmc_output/pT_e.dat','d0','pT','histos/cut_d0',100)"
   ]
  },
  {
   "cell_type": "code",
   "execution_count": null,
   "metadata": {},
   "outputs": [],
   "source": []
  }
 ],
 "metadata": {
  "kernelspec": {
   "display_name": "Python 3",
   "language": "python",
   "name": "python3"
  },
  "language_info": {
   "codemirror_mode": {
    "name": "ipython",
    "version": 3
   },
   "file_extension": ".py",
   "mimetype": "text/x-python",
   "name": "python",
   "nbconvert_exporter": "python",
   "pygments_lexer": "ipython3",
   "version": "3.7.2"
  }
 },
 "nbformat": 4,
 "nbformat_minor": 2
}
