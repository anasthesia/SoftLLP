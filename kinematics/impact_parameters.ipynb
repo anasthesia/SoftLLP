{
 "cells": [
  {
   "cell_type": "code",
   "execution_count": 1,
   "metadata": {},
   "outputs": [],
   "source": [
    "import glob\n",
    "import os\n",
    "import matplotlib as mlib\n",
    "import matplotlib.pyplot as plt\n",
    "import numpy as np\n",
    "from numpy import genfromtxt\n",
    "from numpy import loadtxt\n",
    "import re\n",
    "import csv\n",
    "import matplotlib.colors as mcolors\n",
    "import matplotlib.cm as cm\n",
    "import matplotlib.patches as mpatches"
   ]
  },
  {
   "cell_type": "code",
   "execution_count": 2,
   "metadata": {},
   "outputs": [],
   "source": [
    "#constants\n"
   ]
  },
  {
   "cell_type": "code",
   "execution_count": 3,
   "metadata": {},
   "outputs": [],
   "source": [
    "# d0 for lectrons and muons separately\\n\n",
    "def impact_d0(folder):\n",
    "    #reading pythia output\n",
    "    files = sorted(glob.glob( folder+'/*'))\n",
    "    print(files)\n",
    "\n",
    "    \n",
    "    open(\"hepmc_output/d0_e.dat\",\"w\")\n",
    "    open(\"hepmc_output/d0_mu.dat\",\"w\")\n",
    "    open(\"hepmc_output/pT_e.dat\",\"w\")\n",
    "    open(\"hepmc_output/pT_mu.dat\",\"w\")\n",
    "    #open hepmc file\n",
    "    for filenum, file in enumerate(files):\n",
    "        hepmc=[]\n",
    "        d0_l=[]\n",
    "        d0_e=[]\n",
    "        d0_mu=[]\n",
    "        pT_e=[]\n",
    "        pT_mu=[]\n",
    "        print(file)\n",
    "        with open (file, 'r') as f:\n",
    "            for rownum,row in enumerate(csv.reader(f,delimiter=' ')):\n",
    "                if (len(row)>4):\n",
    "                    hepmc.append(row)\n",
    "\n",
    "        print(len(hepmc)) \n",
    "        \n",
    "        counte=0\n",
    "        countmu=0\n",
    "        countevents=0\n",
    "        countV0=0\n",
    "        for rownum ,row in enumerate(hepmc):\n",
    "            #print(hepmc[rownum][0])\n",
    "            #finding vertex\n",
    "            if (row[0]=='E'):\n",
    "                countevents+=1\n",
    "            if (row[0]=='V'):\n",
    "                #print('V=',row)\n",
    "                ip=rownum+1\n",
    "                #finding electron/muon related to this vertex (knowing that max 3 particles can originate from it)\n",
    "                for i in range(0,2): \n",
    "                    #print(hepmc[ip+i])\n",
    "                    if (ip+i<len(hepmc)):\n",
    "                        if (hepmc[ip+i][2]=='11'):\n",
    "                            counte+=1\n",
    "                            #print(hepmc[ip+i][2:6])\n",
    "                            V=np.array(row[3:6], float)\n",
    "                            P=np.array(hepmc[ip+i][3:6], float)\n",
    "\n",
    "                            #calculating |d0|\n",
    "                            VT=np.sqrt(V[0]**2+V[1]**2)\n",
    "                            PT=np.sqrt(P[0]**2+P[1]**2)\n",
    "                            \n",
    "                            if ((V[0]!=0)&(V[1]!=0)&(V[2]!=0)): \n",
    "                                cTheta=(V[0]*P[0]+V[1]*P[1])/(VT*PT)\n",
    "                                \n",
    "                                d0_e.append(PT*np.sqrt(1-cTheta**2))\n",
    "                                \n",
    "                            else: \n",
    "                                countV0+=1\n",
    "                                d0_e.append(0)\n",
    "                                \n",
    "                            pT_e.append(PT)    \n",
    "                            \n",
    "                            \n",
    "                        if (hepmc[ip+i][2]=='13'):\n",
    "                            countmu+=1\n",
    "                            #print(hepmc[ip+i][2:6])\n",
    "                            V=np.array(row[3:6], float)\n",
    "                            P=np.array(hepmc[ip+i][3:6], float)\n",
    "                            #print(P)\n",
    "\n",
    "                            #calculating |d0|\n",
    "                            VT=np.sqrt(V[0]**2+V[1]**2)\n",
    "                            PT=np.sqrt(P[0]**2+P[1]**2)\n",
    "                            \n",
    "                            if ((V[0]!=0)&(V[1]!=0)&(V[2]!=0)):  \n",
    "                                cTheta=(V[0]*P[0]+V[1]*P[1])/(VT*PT)\n",
    "                                \n",
    "                                d0_mu.append(PT*np.sqrt(1-cTheta**2))\n",
    "                                \n",
    "                            else: \n",
    "                                countV0+=1\n",
    "                                d0_mu.append(0)\n",
    "                            \n",
    "                            pT_mu.append(PT)\n",
    "\n",
    "                        i+=1\n",
    "        #print(d0_l)\n",
    "    \n",
    "        print(\"# events = {}\".format(countevents)+\"# e = {}\".format(counte)+\"# mu = {}\".format(countmu)\\\n",
    "              +\"# V(primary) = {}\".format(countV0))\n",
    "        \n",
    "        #Saving d0 to file\n",
    "        with open(\"hepmc_output/d0_e.dat\", 'a+') as foute:\n",
    "                        #fout.write('# d0 [mm]' + '\\n')\n",
    "                        np.savetxt(foute, d0_e, fmt='%7f')   \n",
    "                    \n",
    "        with open(\"hepmc_output/d0_mu.dat\", 'a+') as foutmu:\n",
    "                        #fout.write('# d0 [mm]' + '\\n')\n",
    "                        np.savetxt(foutmu, d0_mu, fmt='%7f')\n",
    "                    \n",
    "        #Saving pT to file\n",
    "        with open(\"hepmc_output/pT_e.dat\", 'a+') as foute:\n",
    "                        np.savetxt(foute, pT_e, fmt='%7f')   \n",
    "                    \n",
    "        with open(\"hepmc_output/pT_mu.dat\", 'a+') as foutmu:\n",
    "                        np.savetxt(foutmu, pT_mu, fmt='%7f')"
   ]
  },
  {
   "cell_type": "code",
   "execution_count": 4,
   "metadata": {},
   "outputs": [],
   "source": [
    "# lifetime of chi_+\n",
    "def lifetime(folder,outputfolder):\n",
    "    #reading pythia output\n",
    "    files = sorted(glob.glob( folder+'/*'))\n",
    "    print(files)\n",
    "\n",
    "    os.makedirs(os.path.dirname(outputfolder+\"/ctau_plus.dat\"), exist_ok=True)\n",
    "    open(outputfolder+\"/ctau_plus.dat\",\"w\")\n",
    "    open(outputfolder+\"/DM.dat\",\"w\")\n",
    "    open(outputfolder+\"/beta_plus.dat\",\"w\")\n",
    "    open(outputfolder+\"/gamma_plus.dat\",\"w\")\n",
    "    open(outputfolder+\"/betagamma_plus.dat\",\"w\")\n",
    "    open(outputfolder+\"/pT_plus.dat\",\"w\")\n",
    "    \n",
    "    #open hepmc file\n",
    "    for filenum, file in enumerate(files):\n",
    "        hepmc=[]\n",
    "        ctau_plus=[]\n",
    "        beta_plus=[]\n",
    "        gamma_plus=[]\n",
    "        betagamma_plus=[]\n",
    "        pT_plus=[]\n",
    "        DM=[]\n",
    "\n",
    "        print(file)\n",
    "        with open (file, 'r') as f:\n",
    "            for rownum,row in enumerate(csv.reader(f,delimiter=' ')):\n",
    "                if (len(row)>4):\n",
    "                    hepmc.append(row)\n",
    "\n",
    "        print(len(hepmc)) \n",
    "\n",
    "        countevents=0\n",
    "        countV0=0\n",
    "        for rownum ,row in enumerate(hepmc):\n",
    "            #print(hepmc[rownum][0])\n",
    "            #finding vertex\n",
    "            if (row[0]=='E'):\n",
    "                countevents+=1\n",
    "            \n",
    "            #calculating beta and gamma factors of chi_plus\n",
    "            if (row[2]=='9000007') or (row[2]=='-9000007'):\n",
    "                \n",
    "                plus=np.array(row[3:7], float)\n",
    "                #print(plus)\n",
    "                \n",
    "                beta=np.sqrt(plus[0]**2+plus[1]**2+plus[2]**2)/plus[3]\n",
    "                beta_plus.append(beta)\n",
    "                gamma_plus.append(1/np.sqrt(1-beta**2))\n",
    "                betagamma_plus.append(beta*1/np.sqrt(1-beta**2))\n",
    "                pT_plus.append(np.sqrt(plus[0]**2+plus[1]**2))\n",
    "                \n",
    "            \n",
    "            if (row[0]=='V'):\n",
    "                #print('V=',row)\n",
    "                ip=rownum+1\n",
    "                #finding DM related to this vertex (knowing that max 3 particles can originate from it)\n",
    "                for i in range(0,2): \n",
    "                    #print(hepmc[ip+i])\n",
    "                    if (ip+i<len(hepmc)):\n",
    "                        if (hepmc[ip+i][2]=='9000005'):\n",
    "                            DM.append(hepmc[ip+i])\n",
    "                            #print(hepmc[ip+i][2:6])\n",
    "                            V=np.array(row[3:6], float)\n",
    "                            P=np.array(hepmc[ip+i][3:6], float)\n",
    "\n",
    "                            #calculating lifetime and time of flight in lab frame\n",
    "                            ctau_plus.append(np.sqrt(V[0]**2+V[1]**2+V[2]**2))\n",
    "            \n",
    "                              \n",
    "\n",
    "                        i+=1\n",
    "        #print(d0_l)\n",
    "    \n",
    "        #print(\"# events = {}\".format(countevents)+\"# e = {}\".format(counte)+\"# mu = {}\".format(countmu)\\\n",
    "        #      +\"# V(primary) = {}\".format(countV0))\n",
    "        \n",
    "        #Saving to files \n",
    "        with open(outputfolder+\"/ctau_plus.dat\", 'a+') as fout:\n",
    "                        np.savetxt(fout, ctau_plus, fmt='%7f') \n",
    "                    \n",
    "        with open(outputfolder+\"/beta_plus.dat\", 'a+') as fout:\n",
    "                        np.savetxt(fout, beta_plus, fmt='%7f') \n",
    "                    \n",
    "        with open(outputfolder+\"/gamma_plus.dat\", 'a+') as fout:\n",
    "                        np.savetxt(fout, gamma_plus, fmt='%7f') \n",
    "                \n",
    "        with open(outputfolder+\"/betagamma_plus.dat\", 'a+') as fout:\n",
    "                        np.savetxt(fout, betagamma_plus, fmt='%7f') \n",
    "                \n",
    "        with open(outputfolder+\"/pT_plus.dat\", 'a+') as fout:\n",
    "                        np.savetxt(fout, pT_plus, fmt='%7f') \n",
    "                \n",
    "        #print(DM)            \n",
    "        #with open(outputfolder+\"/DM.dat\", 'a+') as fout:\n",
    "        #                fout.write(DM)"
   ]
  },
  {
   "cell_type": "code",
   "execution_count": 5,
   "metadata": {},
   "outputs": [],
   "source": [
    "# lifetime of chi_+\n",
    "def lifetimeAngle(folder,outputfolder,tanmin,tanmax):\n",
    "    #reading pythia output\n",
    "    files = sorted(glob.glob( folder+'/*'))\n",
    "    print(files)\n",
    "\n",
    "    os.makedirs(os.path.dirname(outputfolder+\"/ctau_plus.dat\"), exist_ok=True)\n",
    "    open(outputfolder+\"/ctau_plus.dat\",\"w\")\n",
    "    #open hepmc file\n",
    "    for filenum, file in enumerate(files):\n",
    "        hepmc=[]\n",
    "        ctau_plus=[]\n",
    "\n",
    "        print(file)\n",
    "        with open (file, 'r') as f:\n",
    "            for rownum,row in enumerate(csv.reader(f,delimiter=' ')):\n",
    "                if (len(row)>4):\n",
    "                    hepmc.append(row)\n",
    "\n",
    "        print(len(hepmc)) \n",
    "        \n",
    "        counte=0\n",
    "        countmu=0\n",
    "        countevents=0\n",
    "        countAngle=0\n",
    "        for rownum ,row in enumerate(hepmc):\n",
    "            #print(hepmc[rownum][0])\n",
    "            #finding vertex\n",
    "            if (row[0]=='E'):\n",
    "                countevents+=1\n",
    "            if (row[0]=='V'):\n",
    "                #print('V=',row)\n",
    "                ip=rownum+1\n",
    "                #finding DM related to this vertex (knowing that max 3 particles can originate from it)\n",
    "                for i in range(0,2): \n",
    "                    #print(hepmc[ip+i])\n",
    "                    if (ip+i<len(hepmc)):\n",
    "                        if (hepmc[ip+i][2]=='9000005'):\n",
    "                            countDM+=1\n",
    "                            #print(hepmc[ip+i][2:6])\n",
    "                            V=np.array(row[3:6], float)\n",
    "                            P=np.array(hepmc[ip+i][3:6], float)\n",
    "\n",
    "                            #calculating ctau in the range of angles:\n",
    "                            VT=np.sqrt(V[0]**2+V[1]**2)\n",
    "                            tantheta=VT/np.abs(V[2])\n",
    "                            \n",
    "                            if ((tanmin<tantheta)&(tantheta<tanmax)):\n",
    "                                countAngle+=1\n",
    "                                ctau_plus.append(np.sqrt(V[0]**2+V[1]**2+V[2]**2))\n",
    "\n",
    "                              \n",
    "\n",
    "                        i+=1\n",
    "        #print(d0_l)\n",
    "    \n",
    "        print(\"# events = {}\".format(countevents)+\"# in range = {}\".format(countAngle))\n",
    "        \n",
    "        #Saving ctau to file \n",
    "        \n",
    "        with open(outputfolder+\"/ctau_plus.dat\", 'a+') as fout:\n",
    "                        #fout.write('# d0 [mm]' + '\\n')\n",
    "                        np.savetxt(fout, ctau_plus, fmt='%7f')   "
   ]
  },
  {
   "cell_type": "code",
   "execution_count": 6,
   "metadata": {},
   "outputs": [],
   "source": [
    "#choosing var1 & var2 with respect to cut on var1\n",
    "\n",
    "def chooseWithCut(file1,file2,variable1,variable2,output_folder,cut_file1):\n",
    "    var1 = np.array(genfromtxt(file1))\n",
    "    var2 = np.array(genfromtxt(file2))\n",
    "    \n",
    "    print(var2[var1>cut_file1])\n",
    "    \n",
    "    var1New=var1[var1>cut_file1]\n",
    "    var2New=var2[var1>cut_file1]\n",
    "    \n",
    "    oute=output_folder+\"_cut/\"\n",
    "    \n",
    "    os.makedirs(os.path.dirname(oute), exist_ok=True)\n",
    "    \n",
    "    with open(out+variable1+'.dat', 'w') as fout1:\n",
    "        np.savetxt(fout1, var1New, fmt='%7f')\n",
    "    \n",
    "    with open(out+variable1+'.dat', 'w') as fout2:\n",
    "        np.savetxt(fout2, var2New, fmt='%7f')"
   ]
  },
  {
   "cell_type": "code",
   "execution_count": 24,
   "metadata": {},
   "outputs": [
    {
     "name": "stdout",
     "output_type": "stream",
     "text": [
      "[0. 0. 0. ... 0. 0. 0.]\n"
     ]
    }
   ],
   "source": [
    "chooseWithCut('histos/pT_pythia/pT_e.dat','histos/d0_real/d0_e.dat','pT','d0','e_cut',10)"
   ]
  },
  {
   "cell_type": "code",
   "execution_count": 25,
   "metadata": {},
   "outputs": [
    {
     "name": "stdout",
     "output_type": "stream",
     "text": [
      "[0. 0. 0. ... 0. 0. 0.]\n"
     ]
    }
   ],
   "source": [
    "chooseWithCut('histos/pT_pythia/pT_mu.dat','histos/d0_real/d0_mu.dat','pT','d0','mu_cut',10)"
   ]
  },
  {
   "cell_type": "code",
   "execution_count": 28,
   "metadata": {},
   "outputs": [
    {
     "name": "stdout",
     "output_type": "stream",
     "text": [
      "[ 22.48824   10.95337   11.590138  26.533526  25.661871  33.347054\n",
      "  47.180525  16.65553   34.454754  38.943485  51.863642  21.265549\n",
      "  41.956833  10.046094  14.016573  10.170316  21.103116  16.063442\n",
      "  15.81082   16.122646  15.000018 155.647521  11.611274  30.606574\n",
      "  62.31787   17.306301  14.10992   15.199604  12.850379  23.766619\n",
      "  12.360929  43.298761 175.8681    17.53558   49.342838  35.68634\n",
      "  15.541663  23.859052  20.732581  15.205266  19.28075   13.890731\n",
      "  20.855286  12.019492  13.51624   10.376472  12.002468  25.395985\n",
      "  29.198502  16.549653  10.107551  20.459342  14.301696  10.003159\n",
      "  18.519944  14.692021  25.919166  12.330411  49.719596  12.664613\n",
      "  15.921522  10.202953  10.098852  20.235758  13.762713  10.322614\n",
      "  26.013009  13.441925  48.884146  17.22727   15.377062 161.693488\n",
      "  13.431368  11.921576  19.780699  17.602177  11.816107  14.882669\n",
      "  10.774668  10.456395  11.115739  14.626191  62.65736   41.278775\n",
      "  10.765434  10.472835 116.073597  11.347817  25.354522  19.462205]\n"
     ]
    }
   ],
   "source": [
    "chooseWithCut('mu_cut_cutd0','mu_cut_cutpT','d0','pT','mu_cutd0',0.1)"
   ]
  },
  {
   "cell_type": "code",
   "execution_count": 29,
   "metadata": {},
   "outputs": [
    {
     "name": "stdout",
     "output_type": "stream",
     "text": [
      "[16.510124 74.856627 18.278645 14.420051 26.081339 10.052906 38.009223\n",
      " 16.739465 11.62326  45.46512  30.778797 45.345274 10.750851 11.731046\n",
      " 25.356011 22.856074 12.454772 62.04214  12.199269 29.058587 15.646389\n",
      " 53.116439 17.570276 30.93712  23.731003 11.63663  29.715172 14.440059\n",
      " 16.775751 25.997271 19.310832 74.075755 18.395727 15.509746 17.6158\n",
      " 17.415424 21.572153 10.222176 17.33624  19.72876  22.507979 39.546741\n",
      " 13.779528 11.504213 62.639314 12.236002 35.496261 15.499421 10.948644\n",
      " 28.568007 15.029108 28.841759 10.004351 32.889439 19.831541 39.478919\n",
      " 18.178901 25.938783 19.192789 27.408195 22.941176 49.157454 13.094178\n",
      " 19.280946 18.744305 42.862113 18.895644 12.078462 13.824418 19.172304\n",
      " 19.196477 10.800636 50.351624 10.672964 46.990916 10.935708 31.722816\n",
      " 67.992224 42.78604  62.086922 30.144308 11.193355 73.67114  11.976523\n",
      " 20.887525 11.266953 53.870963 10.685612 13.26258  12.112184 12.836717\n",
      " 28.599665 10.139282 15.554587 12.227823 28.774732 36.914607 12.981845\n",
      " 10.910213 21.536228 14.087333 68.035384 20.570566 11.352288]\n"
     ]
    }
   ],
   "source": [
    "chooseWithCut('e_cut_cutd0','e_cut_cutpT','d0','pT','e_cutd0',0.1)"
   ]
  },
  {
   "cell_type": "code",
   "execution_count": 38,
   "metadata": {
    "scrolled": true
   },
   "outputs": [
    {
     "name": "stdout",
     "output_type": "stream",
     "text": [
      "[]\n"
     ]
    }
   ],
   "source": [
    "impact_d0('hepmc_large_split')"
   ]
  },
  {
   "cell_type": "code",
   "execution_count": 7,
   "metadata": {
    "scrolled": true
   },
   "outputs": [
    {
     "name": "stdout",
     "output_type": "stream",
     "text": [
      "['hepmc_rr1.00e-08_mS3.04e+02_mT3.24e+02/pythiaaa', 'hepmc_rr1.00e-08_mS3.04e+02_mT3.24e+02/pythiaab', 'hepmc_rr1.00e-08_mS3.04e+02_mT3.24e+02/pythiaac', 'hepmc_rr1.00e-08_mS3.04e+02_mT3.24e+02/pythiaad', 'hepmc_rr1.00e-08_mS3.04e+02_mT3.24e+02/pythiaae', 'hepmc_rr1.00e-08_mS3.04e+02_mT3.24e+02/pythiaaf', 'hepmc_rr1.00e-08_mS3.04e+02_mT3.24e+02/pythiaag', 'hepmc_rr1.00e-08_mS3.04e+02_mT3.24e+02/pythiaah', 'hepmc_rr1.00e-08_mS3.04e+02_mT3.24e+02/pythiaai', 'hepmc_rr1.00e-08_mS3.04e+02_mT3.24e+02/pythiaaj', 'hepmc_rr1.00e-08_mS3.04e+02_mT3.24e+02/pythiaak', 'hepmc_rr1.00e-08_mS3.04e+02_mT3.24e+02/pythiaal', 'hepmc_rr1.00e-08_mS3.04e+02_mT3.24e+02/pythiaam', 'hepmc_rr1.00e-08_mS3.04e+02_mT3.24e+02/pythiaan', 'hepmc_rr1.00e-08_mS3.04e+02_mT3.24e+02/pythiaao', 'hepmc_rr1.00e-08_mS3.04e+02_mT3.24e+02/pythiaap', 'hepmc_rr1.00e-08_mS3.04e+02_mT3.24e+02/pythiaaq', 'hepmc_rr1.00e-08_mS3.04e+02_mT3.24e+02/pythiaar', 'hepmc_rr1.00e-08_mS3.04e+02_mT3.24e+02/pythiaas']\n",
      "hepmc_rr1.00e-08_mS3.04e+02_mT3.24e+02/pythiaaa\n"
     ]
    },
    {
     "ename": "KeyboardInterrupt",
     "evalue": "",
     "output_type": "error",
     "traceback": [
      "\u001b[0;31m---------------------------------------------------------------------------\u001b[0m",
      "\u001b[0;31mKeyboardInterrupt\u001b[0m                         Traceback (most recent call last)",
      "\u001b[0;32m<ipython-input-7-4d9125b6f862>\u001b[0m in \u001b[0;36m<module>\u001b[0;34m\u001b[0m\n\u001b[0;32m----> 1\u001b[0;31m \u001b[0mimpact_d0\u001b[0m\u001b[0;34m(\u001b[0m\u001b[0;34m'hepmc_rr1.00e-08_mS3.04e+02_mT3.24e+02'\u001b[0m\u001b[0;34m)\u001b[0m\u001b[0;34m\u001b[0m\u001b[0;34m\u001b[0m\u001b[0m\n\u001b[0m",
      "\u001b[0;32m<ipython-input-3-9ed16e32aa30>\u001b[0m in \u001b[0;36mimpact_d0\u001b[0;34m(folder)\u001b[0m\n\u001b[1;32m     20\u001b[0m         \u001b[0mprint\u001b[0m\u001b[0;34m(\u001b[0m\u001b[0mfile\u001b[0m\u001b[0;34m)\u001b[0m\u001b[0;34m\u001b[0m\u001b[0;34m\u001b[0m\u001b[0m\n\u001b[1;32m     21\u001b[0m         \u001b[0;32mwith\u001b[0m \u001b[0mopen\u001b[0m \u001b[0;34m(\u001b[0m\u001b[0mfile\u001b[0m\u001b[0;34m,\u001b[0m \u001b[0;34m'r'\u001b[0m\u001b[0;34m)\u001b[0m \u001b[0;32mas\u001b[0m \u001b[0mf\u001b[0m\u001b[0;34m:\u001b[0m\u001b[0;34m\u001b[0m\u001b[0;34m\u001b[0m\u001b[0m\n\u001b[0;32m---> 22\u001b[0;31m             \u001b[0;32mfor\u001b[0m \u001b[0mrownum\u001b[0m\u001b[0;34m,\u001b[0m\u001b[0mrow\u001b[0m \u001b[0;32min\u001b[0m \u001b[0menumerate\u001b[0m\u001b[0;34m(\u001b[0m\u001b[0mcsv\u001b[0m\u001b[0;34m.\u001b[0m\u001b[0mreader\u001b[0m\u001b[0;34m(\u001b[0m\u001b[0mf\u001b[0m\u001b[0;34m,\u001b[0m\u001b[0mdelimiter\u001b[0m\u001b[0;34m=\u001b[0m\u001b[0;34m' '\u001b[0m\u001b[0;34m)\u001b[0m\u001b[0;34m)\u001b[0m\u001b[0;34m:\u001b[0m\u001b[0;34m\u001b[0m\u001b[0;34m\u001b[0m\u001b[0m\n\u001b[0m\u001b[1;32m     23\u001b[0m                 \u001b[0;32mif\u001b[0m \u001b[0;34m(\u001b[0m\u001b[0mlen\u001b[0m\u001b[0;34m(\u001b[0m\u001b[0mrow\u001b[0m\u001b[0;34m)\u001b[0m\u001b[0;34m>\u001b[0m\u001b[0;36m4\u001b[0m\u001b[0;34m)\u001b[0m\u001b[0;34m:\u001b[0m\u001b[0;34m\u001b[0m\u001b[0;34m\u001b[0m\u001b[0m\n\u001b[1;32m     24\u001b[0m                     \u001b[0mhepmc\u001b[0m\u001b[0;34m.\u001b[0m\u001b[0mappend\u001b[0m\u001b[0;34m(\u001b[0m\u001b[0mrow\u001b[0m\u001b[0;34m)\u001b[0m\u001b[0;34m\u001b[0m\u001b[0;34m\u001b[0m\u001b[0m\n",
      "\u001b[0;31mKeyboardInterrupt\u001b[0m: "
     ]
    }
   ],
   "source": [
    "impact_d0('hepmc_rr1.00e-08_mS3.04e+02_mT3.24e+02')"
   ]
  },
  {
   "cell_type": "code",
   "execution_count": 8,
   "metadata": {
    "scrolled": false
   },
   "outputs": [
    {
     "name": "stdout",
     "output_type": "stream",
     "text": [
      "['hepmc_rr1.00e-08_mS3.04e+02_mT3.24e+02/pythiaaa', 'hepmc_rr1.00e-08_mS3.04e+02_mT3.24e+02/pythiaab', 'hepmc_rr1.00e-08_mS3.04e+02_mT3.24e+02/pythiaac', 'hepmc_rr1.00e-08_mS3.04e+02_mT3.24e+02/pythiaad', 'hepmc_rr1.00e-08_mS3.04e+02_mT3.24e+02/pythiaae', 'hepmc_rr1.00e-08_mS3.04e+02_mT3.24e+02/pythiaaf', 'hepmc_rr1.00e-08_mS3.04e+02_mT3.24e+02/pythiaag', 'hepmc_rr1.00e-08_mS3.04e+02_mT3.24e+02/pythiaah', 'hepmc_rr1.00e-08_mS3.04e+02_mT3.24e+02/pythiaai', 'hepmc_rr1.00e-08_mS3.04e+02_mT3.24e+02/pythiaaj', 'hepmc_rr1.00e-08_mS3.04e+02_mT3.24e+02/pythiaak', 'hepmc_rr1.00e-08_mS3.04e+02_mT3.24e+02/pythiaal', 'hepmc_rr1.00e-08_mS3.04e+02_mT3.24e+02/pythiaam', 'hepmc_rr1.00e-08_mS3.04e+02_mT3.24e+02/pythiaan', 'hepmc_rr1.00e-08_mS3.04e+02_mT3.24e+02/pythiaao', 'hepmc_rr1.00e-08_mS3.04e+02_mT3.24e+02/pythiaap', 'hepmc_rr1.00e-08_mS3.04e+02_mT3.24e+02/pythiaaq', 'hepmc_rr1.00e-08_mS3.04e+02_mT3.24e+02/pythiaar', 'hepmc_rr1.00e-08_mS3.04e+02_mT3.24e+02/pythiaas']\n",
      "hepmc_rr1.00e-08_mS3.04e+02_mT3.24e+02/pythiaaa\n",
      "3051941\n",
      "hepmc_rr1.00e-08_mS3.04e+02_mT3.24e+02/pythiaab\n",
      "3051802\n",
      "hepmc_rr1.00e-08_mS3.04e+02_mT3.24e+02/pythiaac\n",
      "3052119\n",
      "hepmc_rr1.00e-08_mS3.04e+02_mT3.24e+02/pythiaad\n",
      "3052723\n",
      "hepmc_rr1.00e-08_mS3.04e+02_mT3.24e+02/pythiaae\n",
      "3051464\n",
      "hepmc_rr1.00e-08_mS3.04e+02_mT3.24e+02/pythiaaf\n",
      "3051306\n",
      "hepmc_rr1.00e-08_mS3.04e+02_mT3.24e+02/pythiaag\n",
      "3050722\n",
      "hepmc_rr1.00e-08_mS3.04e+02_mT3.24e+02/pythiaah\n",
      "3052637\n",
      "hepmc_rr1.00e-08_mS3.04e+02_mT3.24e+02/pythiaai\n",
      "3051961\n",
      "hepmc_rr1.00e-08_mS3.04e+02_mT3.24e+02/pythiaaj\n",
      "3051270\n",
      "hepmc_rr1.00e-08_mS3.04e+02_mT3.24e+02/pythiaak\n",
      "3051400\n",
      "hepmc_rr1.00e-08_mS3.04e+02_mT3.24e+02/pythiaal\n",
      "3052205\n",
      "hepmc_rr1.00e-08_mS3.04e+02_mT3.24e+02/pythiaam\n",
      "3050348\n",
      "hepmc_rr1.00e-08_mS3.04e+02_mT3.24e+02/pythiaan\n",
      "3051669\n",
      "hepmc_rr1.00e-08_mS3.04e+02_mT3.24e+02/pythiaao\n",
      "3051527\n",
      "hepmc_rr1.00e-08_mS3.04e+02_mT3.24e+02/pythiaap\n",
      "3052362\n",
      "hepmc_rr1.00e-08_mS3.04e+02_mT3.24e+02/pythiaaq\n",
      "3053310\n",
      "hepmc_rr1.00e-08_mS3.04e+02_mT3.24e+02/pythiaar\n",
      "3052312\n",
      "hepmc_rr1.00e-08_mS3.04e+02_mT3.24e+02/pythiaas\n",
      "919071\n"
     ]
    }
   ],
   "source": [
    "lifetime('hepmc_rr1.00e-08_mS3.04e+02_mT3.24e+02',\"hepmc_output_rr1e-8\")"
   ]
  },
  {
   "cell_type": "code",
   "execution_count": 9,
   "metadata": {},
   "outputs": [
    {
     "name": "stdout",
     "output_type": "stream",
     "text": [
      "['hepmc_rr1.00e-09_mS3.04e+02_mT3.24e+02/tag_1_pythia8_events.hepmc']\n",
      "hepmc_rr1.00e-09_mS3.04e+02_mT3.24e+02/tag_1_pythia8_events.hepmc\n",
      "5590413\n"
     ]
    }
   ],
   "source": [
    "lifetime(\"hepmc_rr1.00e-09_mS3.04e+02_mT3.24e+02\",\"hepmc_output_rr1e-9\")"
   ]
  },
  {
   "cell_type": "code",
   "execution_count": null,
   "metadata": {},
   "outputs": [],
   "source": [
    "lifetimeAngle(\"hepmc_rr1.00e-08_mS3.04e+02_mT3.24e+02\",'hepmc_output_rr1e-8_Angle-0.2-0.3',0.22,0.28)"
   ]
  },
  {
   "cell_type": "code",
   "execution_count": 19,
   "metadata": {},
   "outputs": [
    {
     "name": "stdout",
     "output_type": "stream",
     "text": [
      "[ 7.974428 11.289619  3.867146 ... 12.838999 12.781385  0.875444]\n"
     ]
    }
   ],
   "source": [
    "chooseWithCut('hepmc_output/pT_e.dat','hepmc_output/d0_e.dat','pT','d0','histos/d0_ctau2cm_pT10_e',10)"
   ]
  },
  {
   "cell_type": "code",
   "execution_count": 20,
   "metadata": {
    "scrolled": true
   },
   "outputs": [
    {
     "name": "stdout",
     "output_type": "stream",
     "text": [
      "[4.770571 0.31015  0.310149 ... 0.492623 0.263741 6.539914]\n"
     ]
    }
   ],
   "source": [
    "chooseWithCut('hepmc_output/pT_mu.dat','hepmc_output/d0_mu.dat','pT','d0','histos/d0_ctau2cm_pT10_mu',10)"
   ]
  },
  {
   "cell_type": "code",
   "execution_count": 21,
   "metadata": {},
   "outputs": [
    {
     "name": "stdout",
     "output_type": "stream",
     "text": [
      "[]\n"
     ]
    }
   ],
   "source": [
    "chooseWithCut('hepmc_output/d0_e.dat','hepmc_output/pT_e.dat','d0','pT','histos/cut_d0',100)"
   ]
  },
  {
   "cell_type": "code",
   "execution_count": 27,
   "metadata": {},
   "outputs": [],
   "source": [
    "# devinding lifetime in 3 peaces\n",
    "\n",
    "var1 = np.array(genfromtxt('hepmc_output/ctau_plus.dat'))\n",
    "\n",
    "\n",
    "low=var1[var1<0.1]\n",
    "middle=var1[(0.1<var1)&(var1<10)]\n",
    "high=var1[10<var1]\n",
    "\n",
    "\n",
    "out=\"histos/lifetime_split\"\n",
    "\n",
    "os.makedirs(os.path.dirname(out), exist_ok=True)\n",
    "\n",
    "with open(out+'/ctau_low.dat', 'w') as fout:\n",
    "    np.savetxt(fout, low, fmt='%7f')\n",
    "    \n",
    "with open(out+'/ctau_middle.dat', 'w') as fout:\n",
    "    np.savetxt(fout, middle, fmt='%7f')\n",
    "    \n",
    "with open(out+'/ctau_high.dat', 'w') as fout:\n",
    "    np.savetxt(fout, high, fmt='%7f')"
   ]
  },
  {
   "cell_type": "code",
   "execution_count": null,
   "metadata": {},
   "outputs": [],
   "source": []
  }
 ],
 "metadata": {
  "kernelspec": {
   "display_name": "Python 3",
   "language": "python",
   "name": "python3"
  },
  "language_info": {
   "codemirror_mode": {
    "name": "ipython",
    "version": 3
   },
   "file_extension": ".py",
   "mimetype": "text/x-python",
   "name": "python",
   "nbconvert_exporter": "python",
   "pygments_lexer": "ipython3",
   "version": "3.7.2"
  }
 },
 "nbformat": 4,
 "nbformat_minor": 2
}
