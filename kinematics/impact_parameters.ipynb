{
 "cells": [
  {
   "cell_type": "code",
   "execution_count": 1,
   "metadata": {},
   "outputs": [],
   "source": [
    "import glob\n",
    "import matplotlib as mlib\n",
    "import matplotlib.pyplot as plt\n",
    "import numpy as np\n",
    "from numpy import genfromtxt\n",
    "from numpy import loadtxt\n",
    "import re\n",
    "import csv\n",
    "import matplotlib.colors as mcolors\n",
    "import matplotlib.cm as cm\n",
    "import matplotlib.patches as mpatches"
   ]
  },
  {
   "cell_type": "code",
   "execution_count": 20,
   "metadata": {},
   "outputs": [],
   "source": [
    "# d0 for lectrons and muons separately\\n\n",
    "def impact_d0(folder):\n",
    "    #reading pythia output\n",
    "    files = sorted(glob.glob( folder+'/*.hepmc'))\n",
    "    print(files)\n",
    "\n",
    "    \n",
    "    hepmc=[]\n",
    "    d0_l=[]\n",
    "    d0_e=[]\n",
    "    d0_mu=[]\n",
    "    \n",
    "    #open hepmc file\n",
    "    for filenum, file in enumerate(files):\n",
    "        print(file)\n",
    "        with open (file, 'r') as f:\n",
    "            for rownum,row in enumerate(csv.reader(f,delimiter=' ')):\n",
    "                if (len(row)>4):\n",
    "                    hepmc.append(row)\n",
    "\n",
    "        print(len(hepmc))            \n",
    "        for rownum ,row in enumerate(hepmc):\n",
    "            #print(hepmc[rownum][0])\n",
    "            #finding vertex\n",
    "            if (row[0]=='V'):\n",
    "                #print('V=',row)\n",
    "                ip=rownum+1\n",
    "                #finding electron/muon related to this vertex (knowing that max 3 particles can originate from it)\n",
    "                for i in range(0,2): \n",
    "                    #print(hepmc[ip+i])\n",
    "                    if (ip+i<len(hepmc)):\n",
    "                        if (hepmc[ip+i][2]=='11'):\n",
    "                            #print(hepmc[ip+i][2:6])\n",
    "                            V=np.array(row[3:6], float)\n",
    "                            P=np.array(hepmc[ip+i][3:6], float)\n",
    "\n",
    "                            #calculating |d0|\n",
    "                            VT=np.sqrt(V[0]**2+V[1]**2)\n",
    "                            if (VT!=0): \n",
    "                                PT=np.sqrt(P[0]**2+P[1]**2)\n",
    "\n",
    "                                cTheta=(V[0]*P[0]+V[1]*P[1])/(VT*PT)\n",
    "                                d0_e.append(PT*np.sqrt(1-cTheta**2))\n",
    "                            \n",
    "                        if (hepmc[ip+i][2]=='13'):\n",
    "                            #print(hepmc[ip+i][2:6])\n",
    "                            V=np.array(row[3:6], float)\n",
    "                            P=np.array(hepmc[ip+i][3:6], float)\n",
    "\n",
    "                            #calculating |d0|\n",
    "                            VT=np.sqrt(V[0]**2+V[1]**2)\n",
    "                            if (VT!=0): \n",
    "                                PT=np.sqrt(P[0]**2+P[1]**2)\n",
    "\n",
    "                                cTheta=(V[0]*P[0]+V[1]*P[1])/(VT*PT)\n",
    "                                d0_mu.append(PT*np.sqrt(1-cTheta**2))\n",
    "\n",
    "                        i+=1\n",
    "        #print(d0_l)\n",
    "    \n",
    "        \n",
    "        \n",
    "        #Saving d0 to file\n",
    "        with open(folder+'/'+file+\"-d0_e.dat\", 'w') as foute:\n",
    "                        #fout.write('# d0 [mm]' + '\\n')\n",
    "                        np.savetxt(foute, d0_e, fmt='%7f')   \n",
    "                    \n",
    "        with open(folder+'/'+file+\"-d0_mu.dat\", 'w') as foutmu:\n",
    "                        #fout.write('# d0 [mm]' + '\\n')\n",
    "                        np.savetxt(foutmu, d0_mu, fmt='%7f')"
   ]
  },
  {
   "cell_type": "code",
   "execution_count": 21,
   "metadata": {},
   "outputs": [
    {
     "name": "stdout",
     "output_type": "stream",
     "text": [
      "['hepmc/tag_1_pythia8_events.hepmc', 'hepmc/test.hepmc']\n",
      "hepmc/tag_1_pythia8_events.hepmc\n",
      "548750\n",
      "hepmc/test.hepmc\n",
      "551669\n"
     ]
    }
   ],
   "source": [
    "impact_d0('hepmc')"
   ]
  },
  {
   "cell_type": "code",
   "execution_count": null,
   "metadata": {},
   "outputs": [],
   "source": []
  }
 ],
 "metadata": {
  "kernelspec": {
   "display_name": "Python 3",
   "language": "python",
   "name": "python3"
  },
  "language_info": {
   "codemirror_mode": {
    "name": "ipython",
    "version": 3
   },
   "file_extension": ".py",
   "mimetype": "text/x-python",
   "name": "python",
   "nbconvert_exporter": "python",
   "pygments_lexer": "ipython3",
   "version": "3.7.2"
  }
 },
 "nbformat": 4,
 "nbformat_minor": 2
}
