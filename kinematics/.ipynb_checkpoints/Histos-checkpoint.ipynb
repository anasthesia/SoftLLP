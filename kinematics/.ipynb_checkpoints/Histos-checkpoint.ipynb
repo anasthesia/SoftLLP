{
 "cells": [
  {
   "cell_type": "code",
   "execution_count": 1,
   "metadata": {},
   "outputs": [],
   "source": [
    "import matplotlib.pyplot as plt\n",
    "import numpy as np\n",
    "from numpy import genfromtxt"
   ]
  },
  {
   "cell_type": "code",
   "execution_count": 12,
   "metadata": {},
   "outputs": [],
   "source": [
    "pTdata = np.array(genfromtxt('ptl_300.dat'))\n",
    "langledata = np.array(genfromtxt('langle_300.dat'))\n",
    "dphidata = np.array(genfromtxt('dphi_300.dat'))"
   ]
  },
  {
   "cell_type": "code",
   "execution_count": 38,
   "metadata": {},
   "outputs": [
    {
     "data": {
      "image/png": "[encoded data removed]",
      "text/plain": [
       "<Figure size 432x288 with 1 Axes>"
      ]
     },
     "metadata": {
      "needs_background": "light"
     },
     "output_type": "display_data"
    }
   ],
   "source": [
    "n, bins, patches = plt.hist(pTdata[pTdata<60], bins=20, density=False,color='#0504aa',\n",
    "                            alpha=0.7, rwidth=0.85)\n",
    "#plt.grid(axis='y', alpha=0.75)\n",
    "\n",
    "plt.xlim(0,60)\n",
    "#plt.ylim(10**(-4),3*10**(-1))\n",
    "plt.yscale(\"log\")\n",
    "\n",
    "plt.xlabel('$p_T(l)$')\n",
    "plt.ylabel('Normalized to 1')\n",
    "#plt.text(23, 45, '$m_l=300,\\ m_C=324,\\ r=5\\ 10^{-8}$')\n",
    "\n",
    "plt.savefig('ptl_300.png')"
   ]
  },
  {
   "cell_type": "code",
   "execution_count": 41,
   "metadata": {
    "scrolled": false
   },
   "outputs": [
    {
     "data": {
      "image/png": "[encoded data removed]",
      "text/plain": [
       "<Figure size 432x288 with 1 Axes>"
      ]
     },
     "metadata": {
      "needs_background": "light"
     },
     "output_type": "display_data"
    }
   ],
   "source": [
    "n, bins, patches = plt.hist(pTdata[pTdata<60], bins=20, density=True,color='#0504aa',\n",
    "                            alpha=0.7, rwidth=0.85)\n",
    "#plt.grid(axis='y', alpha=0.75)\n",
    "\n",
    "plt.xlim(0,60)\n",
    "plt.ylim(10**(-4),3*10**(-1))\n",
    "plt.yscale(\"log\")\n",
    "\n",
    "plt.xlabel('$p_T(l)$')\n",
    "plt.ylabel('Normalized to 1')\n",
    "#plt.text(23, 45, '$m_l=300,\\ m_C=324,\\ r=5\\ 10^{-8}$')\n",
    "\n",
    "plt.savefig('ptl_300.png')"
   ]
  },
  {
   "cell_type": "raw",
   "metadata": {},
   "source": [
    "n, bins, patches = plt.hist(langledata, bins=30, density=True, color='#0504aa',\n",
    "                            alpha=0.7, rwidth=0.85)\n",
    "#plt.grid(axis='y', alpha=0.75)\n",
    "\n",
    "plt.xlim(0,np.pi)\n",
    "plt.ylim(0,0.5)\n",
    "#plt.yscale(\"log\")\n",
    "\n",
    "plt.xlabel('$\\\\theta_{l^+ l^-}$')\n",
    "plt.ylabel('Normalized to 1')\n",
    "#plt.text(23, 45, '$m_l=300,\\ m_C=324,\\ r=5\\ 10^{-8}$')\n",
    "plt.savefig('langle_300.png')"
   ]
  },
  {
   "cell_type": "code",
   "execution_count": 24,
   "metadata": {},
   "outputs": [
    {
     "data": {
      "image/png": "[encoded data removed]",
      "text/plain": [
       "<Figure size 432x288 with 1 Axes>"
      ]
     },
     "metadata": {
      "needs_background": "light"
     },
     "output_type": "display_data"
    }
   ],
   "source": [
    "n, bins, patches = plt.hist(dphidata, bins=40, density=True, color='#0504aa',\n",
    "                            alpha=0.7, rwidth=0.85)\n",
    "#plt.grid(axis='y', alpha=0.75)\n",
    "\n",
    "plt.xlim(-2.1*np.pi,2.1*np.pi)\n",
    "plt.ylim(0,0.14)\n",
    "#plt.yscale(\"log\")\n",
    "\n",
    "plt.xlabel('$d\\\\phi_{l^+ l^-}$')\n",
    "plt.ylabel('Normalized to 1')\n",
    "#plt.text(23, 45, '$m_l=300,\\ m_C=324,\\ r=5\\ 10^{-8}$')\n",
    "plt.savefig('dphi_300.png')"
   ]
  },
  {
   "cell_type": "code",
   "execution_count": 42,
   "metadata": {},
   "outputs": [
    {
     "data": {
      "text/plain": [
       "125.0"
      ]
     },
     "execution_count": 42,
     "metadata": {},
     "output_type": "execute_result"
    }
   ],
   "source": [
    "5*10**(-2)/(4*10**(-4))"
   ]
  },
  {
   "cell_type": "code",
   "execution_count": 44,
   "metadata": {},
   "outputs": [
    {
     "data": {
      "text/plain": [
       "222.2222222222222"
      ]
     },
     "execution_count": 44,
     "metadata": {},
     "output_type": "execute_result"
    }
   ],
   "source": [
    "2*10**(-1)/(9*10**(-4))"
   ]
  },
  {
   "cell_type": "code",
   "execution_count": null,
   "metadata": {},
   "outputs": [],
   "source": []
  }
 ],
 "metadata": {
  "kernelspec": {
   "display_name": "Python 3",
   "language": "python",
   "name": "python3"
  },
  "language_info": {
   "codemirror_mode": {
    "name": "ipython",
    "version": 3
   },
   "file_extension": ".py",
   "mimetype": "text/x-python",
   "name": "python",
   "nbconvert_exporter": "python",
   "pygments_lexer": "ipython3",
   "version": "3.7.2"
  }
 },
 "nbformat": 4,
 "nbformat_minor": 2
}
