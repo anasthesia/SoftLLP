{
 "cells": [
  {
   "cell_type": "code",
   "execution_count": 34,
   "metadata": {},
   "outputs": [],
   "source": [
    "import matplotlib.pyplot as plt\n",
    "import numpy as np\n",
    "from numpy import genfromtxt"
   ]
  },
  {
   "cell_type": "code",
   "execution_count": 35,
   "metadata": {},
   "outputs": [],
   "source": [
    "pTdata = np.array(genfromtxt('ptl_300.dat'))\n",
    "langledata = np.array(genfromtxt('langle_300.dat'))\n",
    "dphidata = np.array(genfromtxt('dphi_300.dat'))"
   ]
  },
  {
   "cell_type": "code",
   "execution_count": 38,
   "metadata": {},
   "outputs": [],
   "source": [
    "crossSection=0.0119\n",
    "lumi=10\n",
    "Nevents=100000\n",
    "weighted=np.full(pTdata.size,10**3*crossSection*lumi/Nevents)"
   ]
  },
  {
   "cell_type": "code",
   "execution_count": 37,
   "metadata": {},
   "outputs": [
    {
     "data": {
      "text/plain": [
       "0.00119"
      ]
     },
     "execution_count": 37,
     "metadata": {},
     "output_type": "execute_result"
    }
   ],
   "source": [
    "10**3*crossSection*lumi/Nevents"
   ]
  },
  {
   "cell_type": "code",
   "execution_count": 41,
   "metadata": {},
   "outputs": [
    {
     "data": {
      "text/plain": [
       "Text(0,0.5,'Normalized to lumi')"
      ]
     },
     "execution_count": 41,
     "metadata": {},
     "output_type": "execute_result"
    },
    {
     "data": {
      "image/png": "[encoded data removed]",
      "text/plain": [
       "<matplotlib.figure.Figure at 0x112ae65f8>"
      ]
     },
     "metadata": {},
     "output_type": "display_data"
    }
   ],
   "source": [
    "n, bins, patches = plt.hist(pTdata, bins=60, weights=weighted ,color='#0504aa',\n",
    "                            alpha=0.7, rwidth=0.85)\n",
    "#plt.grid(axis='y', alpha=0.75)\n",
    "\n",
    "plt.xlim(5,60)\n",
    "#plt.ylim(10**(-4),3*10**(-1))\n",
    "plt.yscale(\"log\")\n",
    "\n",
    "plt.xlabel('$p_T(l)$')\n",
    "plt.ylabel('Normalized to lumi')\n",
    "#plt.text(23, 45, '$m_l=300,\\ m_C=324,\\ r=5\\ 10^{-8}$')\n",
    "\n",
    "#plt.savefig('ptl_300.png')"
   ]
  },
  {
   "cell_type": "code",
   "execution_count": 46,
   "metadata": {
    "scrolled": false
   },
   "outputs": [
    {
     "data": {
      "text/plain": [
       "Text(0,0.5,'Normalized to 1')"
      ]
     },
     "execution_count": 46,
     "metadata": {},
     "output_type": "execute_result"
    },
    {
     "data": {
      "image/png": "[encoded data removed]",
      "text/plain": [
       "<matplotlib.figure.Figure at 0x112a73630>"
      ]
     },
     "metadata": {},
     "output_type": "display_data"
    }
   ],
   "source": [
    "n, bins, patches = plt.hist(pTdata, bins=60, weights=weighted*crossSection ,color='#0504aa',\n",
    "                            alpha=0.7, rwidth=0.85)\n",
    "#plt.grid(axis='y', alpha=0.75)\n",
    "\n",
    "plt.xlim(0,60)\n",
    "plt.ylim(10**(-4),3*10**(-1))\n",
    "plt.yscale(\"log\")\n",
    "\n",
    "plt.xlabel('$p_T(l)$')\n",
    "plt.ylabel('Normalized to 1')\n",
    "#plt.text(23, 45, '$m_l=300,\\ m_C=324,\\ r=5\\ 10^{-8}$')\n",
    "\n",
    "#plt.savefig('ptl_300.png')"
   ]
  },
  {
   "cell_type": "code",
   "execution_count": 45,
   "metadata": {},
   "outputs": [
    {
     "data": {
      "image/png": "[encoded data removed]",
      "text/plain": [
       "<matplotlib.figure.Figure at 0x113744cf8>"
      ]
     },
     "metadata": {},
     "output_type": "display_data"
    }
   ],
   "source": [
    "n, bins, patches = plt.hist(langledata, bins=30, weights=weighted*crossSection, density=False, color='#0504aa',\n",
    "                            alpha=0.7, rwidth=0.85)\n",
    "#plt.grid(axis='y', alpha=0.75)\n",
    "\n",
    "plt.xlim(0,np.pi)\n",
    "plt.ylim(0,0.08)\n",
    "#plt.yscale(\"log\")\n",
    "\n",
    "plt.xlabel('$\\\\theta_{l^+ l^-}$')\n",
    "plt.ylabel('Normalized to 1')\n",
    "#plt.text(23, 45, '$m_l=300,\\ m_C=324,\\ r=5\\ 10^{-8}$')\n",
    "plt.savefig('langle_300.png')"
   ]
  },
  {
   "cell_type": "code",
   "execution_count": 42,
   "metadata": {},
   "outputs": [
    {
     "data": {
      "image/png": "[encoded data removed]",
      "text/plain": [
       "<matplotlib.figure.Figure at 0x113407cf8>"
      ]
     },
     "metadata": {},
     "output_type": "display_data"
    }
   ],
   "source": [
    "n, bins, patches = plt.hist(dphidata, bins=40,weights=weighted*crossSection, density=False, color='#0504aa',\n",
    "                            alpha=0.7, rwidth=0.85)\n",
    "#plt.grid(axis='y', alpha=0.75)\n",
    "\n",
    "plt.xlim(-2.1*np.pi,2.1*np.pi)\n",
    "#plt.ylim(0,0.14)\n",
    "#plt.yscale(\"log\")\n",
    "\n",
    "plt.xlabel('$d\\\\phi_{l^+ l^-}$')\n",
    "plt.ylabel('Normalized to 1')\n",
    "#plt.text(23, 45, '$m_l=300,\\ m_C=324,\\ r=5\\ 10^{-8}$')\n",
    "plt.savefig('dphi_300.png')"
   ]
  },
  {
   "cell_type": "code",
   "execution_count": 13,
   "metadata": {},
   "outputs": [
    {
     "data": {
      "text/plain": [
       "200.0"
      ]
     },
     "execution_count": 13,
     "metadata": {},
     "output_type": "execute_result"
    }
   ],
   "source": [
    "20/0.1"
   ]
  },
  {
   "cell_type": "code",
   "execution_count": 14,
   "metadata": {},
   "outputs": [
    {
     "data": {
      "text/plain": [
       "200.0"
      ]
     },
     "execution_count": 14,
     "metadata": {},
     "output_type": "execute_result"
    }
   ],
   "source": [
    "20000/100"
   ]
  },
  {
   "cell_type": "code",
   "execution_count": 16,
   "metadata": {},
   "outputs": [
    {
     "data": {
      "text/plain": [
       "200.0"
      ]
     },
     "execution_count": 16,
     "metadata": {},
     "output_type": "execute_result"
    }
   ],
   "source": [
    "0.06/0.0003"
   ]
  },
  {
   "cell_type": "code",
   "execution_count": 19,
   "metadata": {},
   "outputs": [
    {
     "data": {
      "text/plain": [
       "3.54"
      ]
     },
     "execution_count": 19,
     "metadata": {},
     "output_type": "execute_result"
    }
   ],
   "source": [
    "300*0.0118"
   ]
  },
  {
   "cell_type": "code",
   "execution_count": 20,
   "metadata": {},
   "outputs": [
    {
     "data": {
      "text/plain": [
       "0.1975726785210274"
      ]
     },
     "execution_count": 20,
     "metadata": {},
     "output_type": "execute_result"
    }
   ],
   "source": [
    "700/3543"
   ]
  },
  {
   "cell_type": "code",
   "execution_count": null,
   "metadata": {},
   "outputs": [],
   "source": []
  }
 ],
 "metadata": {
  "kernelspec": {
   "display_name": "Python 3",
   "language": "python",
   "name": "python3"
  },
  "language_info": {
   "codemirror_mode": {
    "name": "ipython",
    "version": 3
   },
   "file_extension": ".py",
   "mimetype": "text/x-python",
   "name": "python",
   "nbconvert_exporter": "python",
   "pygments_lexer": "ipython3",
   "version": "3.6.4"
  }
 },
 "nbformat": 4,
 "nbformat_minor": 2
}
